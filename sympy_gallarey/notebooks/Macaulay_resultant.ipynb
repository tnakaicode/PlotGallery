{
 "cells": [
  {
   "cell_type": "code",
   "execution_count": 1,
   "metadata": {
    "collapsed": true
   },
   "outputs": [],
   "source": [
    "import sympy as sym\n",
    "from sympy.polys.multivariate_resultants import MacaulayResultant\n",
    "\n",
    "sym.init_printing()"
   ]
  },
  {
   "cell_type": "markdown",
   "metadata": {},
   "source": [
    "Macaulay Resultant\n",
    "------------------"
   ]
  },
  {
   "cell_type": "markdown",
   "metadata": {},
   "source": [
    "The Macauly resultant is a multivariate resultant. It is used for calculating the resultant of $n$ polynomials\n",
    "in $n$ variables. The Macaulay resultant is calculated as the determinant of two matrices,\n",
    "\n",
    "$$R = \\frac{\\text{det}(A)}{\\text{det}(M)}.$$"
   ]
  },
  {
   "cell_type": "markdown",
   "metadata": {},
   "source": [
    "Matrix $A$\n",
    "-----------"
   ]
  },
  {
   "cell_type": "markdown",
   "metadata": {},
   "source": [
    "There are a number of steps needed to construct matrix $A$. Let us consider an example from https://dl.acm.org/citation.cfm?id=550525 to \n",
    "show the construction."
   ]
  },
  {
   "cell_type": "code",
   "execution_count": 2,
   "metadata": {
    "collapsed": true
   },
   "outputs": [],
   "source": [
    "x, y, z = sym.symbols('x, y, z')"
   ]
  },
  {
   "cell_type": "code",
   "execution_count": 3,
   "metadata": {
    "collapsed": true
   },
   "outputs": [],
   "source": [
    "a_1_1, a_1_2, a_1_3, a_2_2, a_2_3, a_3_3 = sym.symbols('a_1_1, a_1_2, a_1_3, a_2_2, a_2_3, a_3_3')\n",
    "b_1_1, b_1_2, b_1_3, b_2_2, b_2_3, b_3_3 = sym.symbols('b_1_1, b_1_2, b_1_3, b_2_2, b_2_3, b_3_3')\n",
    "c_1, c_2, c_3 = sym.symbols('c_1, c_2, c_3')"
   ]
  },
  {
   "cell_type": "code",
   "execution_count": 4,
   "metadata": {
    "collapsed": true
   },
   "outputs": [],
   "source": [
    "variables = [x, y, z]"
   ]
  },
  {
   "cell_type": "code",
   "execution_count": 5,
   "metadata": {
    "collapsed": true
   },
   "outputs": [],
   "source": [
    "f_1 = a_1_1 * x ** 2 + a_1_2 * x * y + a_1_3 * x * z + a_2_2 * y ** 2 + a_2_3 * y * z + a_3_3 * z ** 2"
   ]
  },
  {
   "cell_type": "code",
   "execution_count": 6,
   "metadata": {
    "collapsed": true
   },
   "outputs": [],
   "source": [
    "f_2 = b_1_1 * x ** 2 + b_1_2 * x * y + b_1_3 * x * z + b_2_2 * y ** 2 + b_2_3 * y * z + b_3_3 * z ** 2"
   ]
  },
  {
   "cell_type": "code",
   "execution_count": 7,
   "metadata": {
    "collapsed": true
   },
   "outputs": [],
   "source": [
    "f_3 = c_1 * x + c_2 * y + c_3 * z"
   ]
  },
  {
   "cell_type": "code",
   "execution_count": 8,
   "metadata": {
    "collapsed": true
   },
   "outputs": [],
   "source": [
    "polynomials = [f_1, f_2, f_3]\n",
    "mac = MacaulayResultant(polynomials, variables)"
   ]
  },
  {
   "cell_type": "markdown",
   "metadata": {},
   "source": [
    "**Step 1** Calculated $d_i$ for $i \\in n$. "
   ]
  },
  {
   "cell_type": "code",
   "execution_count": 9,
   "metadata": {},
   "outputs": [
    {
     "data": {
      "image/png": "[encoded data removed]",
      "text/latex": [
       "$$\\left [ 2, \\quad 2, \\quad 1\\right ]$$"
      ],
      "text/plain": [
       "[2, 2, 1]"
      ]
     },
     "execution_count": 9,
     "metadata": {},
     "output_type": "execute_result"
    }
   ],
   "source": [
    "mac.degrees"
   ]
  },
  {
   "cell_type": "markdown",
   "metadata": {
    "collapsed": true
   },
   "source": [
    "**Step 2.** Get $d_M$."
   ]
  },
  {
   "cell_type": "code",
   "execution_count": 10,
   "metadata": {},
   "outputs": [
    {
     "data": {
      "image/png": "[encoded data removed]",
      "text/latex": [
       "$$3$$"
      ],
      "text/plain": [
       "3"
      ]
     },
     "execution_count": 10,
     "metadata": {},
     "output_type": "execute_result"
    }
   ],
   "source": [
    "mac.degree_m"
   ]
  },
  {
   "cell_type": "markdown",
   "metadata": {
    "collapsed": true
   },
   "source": [
    "**Step 3.** All monomials of degree $d_M$ and size of set."
   ]
  },
  {
   "cell_type": "code",
   "execution_count": 11,
   "metadata": {
    "collapsed": true
   },
   "outputs": [],
   "source": [
    "mac.get_monomials_set()"
   ]
  },
  {
   "cell_type": "code",
   "execution_count": 12,
   "metadata": {},
   "outputs": [
    {
     "data": {
      "image/png": "[encoded data removed]",
      "text/latex": [
       "$$\\left [ x^{3}, \\quad x^{2} y, \\quad x^{2} z, \\quad x y^{2}, \\quad x y z, \\quad x z^{2}, \\quad y^{3}, \\quad y^{2} z, \\quad y z^{2}, \\quad z^{3}\\right ]$$"
      ],
      "text/plain": [
       "⎡ 3   2     2       2            2   3   2       2   3⎤\n",
       "⎣x , x ⋅y, x ⋅z, x⋅y , x⋅y⋅z, x⋅z , y , y ⋅z, y⋅z , z ⎦"
      ]
     },
     "execution_count": 12,
     "metadata": {},
     "output_type": "execute_result"
    }
   ],
   "source": [
    "mac.monomial_set"
   ]
  },
  {
   "cell_type": "code",
   "execution_count": 13,
   "metadata": {},
   "outputs": [
    {
     "data": {
      "image/png": "[encoded data removed]",
      "text/latex": [
       "$$10$$"
      ],
      "text/plain": [
       "10"
      ]
     },
     "execution_count": 13,
     "metadata": {},
     "output_type": "execute_result"
    }
   ],
   "source": [
    "mac.monomials_size"
   ]
  },
  {
   "cell_type": "markdown",
   "metadata": {},
   "source": [
    "These are the columns of matrix $A$."
   ]
  },
  {
   "cell_type": "markdown",
   "metadata": {
    "collapsed": true
   },
   "source": [
    "**Step 4** Get rows and fill matrix."
   ]
  },
  {
   "cell_type": "code",
   "execution_count": 14,
   "metadata": {},
   "outputs": [
    {
     "data": {
      "image/png": "[encoded data removed]",
      "text/latex": [
       "$$\\left [ \\left [ x, \\quad y, \\quad z\\right ], \\quad \\left [ x, \\quad y, \\quad z\\right ], \\quad \\left [ x y, \\quad x z, \\quad y z, \\quad z^{2}\\right ]\\right ]$$"
      ],
      "text/plain": [
       "⎡                      ⎡                2⎤⎤\n",
       "⎣[x, y, z], [x, y, z], ⎣x⋅y, x⋅z, y⋅z, z ⎦⎦"
      ]
     },
     "execution_count": 14,
     "metadata": {},
     "output_type": "execute_result"
    }
   ],
   "source": [
    "mac.get_row_coefficients()"
   ]
  },
  {
   "cell_type": "markdown",
   "metadata": {},
   "source": [
    "Each list is being multiplied by polynomials $f_1$, $f_2$ and $f_3$ equivalently. Then we fill the matrix\n",
    "based on the coefficient of the monomials in the columns."
   ]
  },
  {
   "cell_type": "code",
   "execution_count": 15,
   "metadata": {},
   "outputs": [
    {
     "data": {
      "image/png": "[encoded data removed]",
      "text/latex": [
       "$$\\left[\\begin{matrix}a_{1 1} & a_{1 2} & a_{1 3} & a_{2 2} & a_{2 3} & a_{3 3} & 0 & 0 & 0 & 0\\\\0 & a_{1 1} & 0 & a_{1 2} & a_{1 3} & 0 & a_{2 2} & a_{2 3} & a_{3 3} & 0\\\\0 & 0 & a_{1 1} & 0 & a_{1 2} & a_{1 3} & 0 & a_{2 2} & a_{2 3} & a_{3 3}\\\\b_{1 1} & b_{1 2} & b_{1 3} & b_{2 2} & b_{2 3} & b_{3 3} & 0 & 0 & 0 & 0\\\\0 & b_{1 1} & 0 & b_{1 2} & b_{1 3} & 0 & b_{2 2} & b_{2 3} & b_{3 3} & 0\\\\0 & 0 & b_{1 1} & 0 & b_{1 2} & b_{1 3} & 0 & b_{2 2} & b_{2 3} & b_{3 3}\\\\0 & c_{1} & 0 & c_{2} & c_{3} & 0 & 0 & 0 & 0 & 0\\\\0 & 0 & c_{1} & 0 & c_{2} & c_{3} & 0 & 0 & 0 & 0\\\\0 & 0 & 0 & 0 & c_{1} & 0 & 0 & c_{2} & c_{3} & 0\\\\0 & 0 & 0 & 0 & 0 & c_{1} & 0 & 0 & c_{2} & c_{3}\\end{matrix}\\right]$$"
      ],
      "text/plain": [
       "⎡a₁ ₁  a₁ ₂  a₁ ₃  a₂ ₂  a₂ ₃  a₃ ₃   0     0     0     0  ⎤\n",
       "⎢                                                          ⎥\n",
       "⎢ 0    a₁ ₁   0    a₁ ₂  a₁ ₃   0    a₂ ₂  a₂ ₃  a₃ ₃   0  ⎥\n",
       "⎢                                                          ⎥\n",
       "⎢ 0     0    a₁ ₁   0    a₁ ₂  a₁ ₃   0    a₂ ₂  a₂ ₃  a₃ ₃⎥\n",
       "⎢                                                          ⎥\n",
       "⎢b₁ ₁  b₁ ₂  b₁ ₃  b₂ ₂  b₂ ₃  b₃ ₃   0     0     0     0  ⎥\n",
       "⎢                                                          ⎥\n",
       "⎢ 0    b₁ ₁   0    b₁ ₂  b₁ ₃   0    b₂ ₂  b₂ ₃  b₃ ₃   0  ⎥\n",
       "⎢                                                          ⎥\n",
       "⎢ 0     0    b₁ ₁   0    b₁ ₂  b₁ ₃   0    b₂ ₂  b₂ ₃  b₃ ₃⎥\n",
       "⎢                                                          ⎥\n",
       "⎢ 0     c₁    0     c₂    c₃    0     0     0     0     0  ⎥\n",
       "⎢                                                          ⎥\n",
       "⎢ 0     0     c₁    0     c₂    c₃    0     0     0     0  ⎥\n",
       "⎢                                                          ⎥\n",
       "⎢ 0     0     0     0     c₁    0     0     c₂    c₃    0  ⎥\n",
       "⎢                                                          ⎥\n",
       "⎣ 0     0     0     0     0     c₁    0     0     c₂    c₃ ⎦"
      ]
     },
     "execution_count": 15,
     "metadata": {},
     "output_type": "execute_result"
    }
   ],
   "source": [
    "matrix = mac.get_matrix()\n",
    "matrix"
   ]
  },
  {
   "cell_type": "markdown",
   "metadata": {},
   "source": [
    "Matrix $M$\n",
    "-----------"
   ]
  },
  {
   "cell_type": "markdown",
   "metadata": {},
   "source": [
    "Columns that are non reduced are kept. The rows which contain one if the $a_i$s is dropoed.\n",
    "$a_i$s are the coefficients of $x_i ^ {d_i}$."
   ]
  },
  {
   "cell_type": "code",
   "execution_count": 16,
   "metadata": {},
   "outputs": [
    {
     "data": {
      "image/png": "[encoded data removed]",
      "text/latex": [
       "$$\\left[\\begin{matrix}a_{1 1} & a_{2 2}\\\\b_{1 1} & b_{2 2}\\end{matrix}\\right]$$"
      ],
      "text/plain": [
       "⎡a₁ ₁  a₂ ₂⎤\n",
       "⎢          ⎥\n",
       "⎣b₁ ₁  b₂ ₂⎦"
      ]
     },
     "execution_count": 16,
     "metadata": {},
     "output_type": "execute_result"
    }
   ],
   "source": [
    "mac.get_submatrix(matrix)"
   ]
  },
  {
   "cell_type": "markdown",
   "metadata": {},
   "source": [
    "Second example\n",
    "-----------------\n",
    "This is from: http://isc.tamu.edu/resources/preprints/1996/1996-02.pdf"
   ]
  },
  {
   "cell_type": "code",
   "execution_count": 17,
   "metadata": {
    "collapsed": true
   },
   "outputs": [],
   "source": [
    "x, y, z = sym.symbols('x, y, z')"
   ]
  },
  {
   "cell_type": "code",
   "execution_count": 18,
   "metadata": {
    "collapsed": true
   },
   "outputs": [],
   "source": [
    "a_0, a_1, a_2 = sym.symbols('a_0, a_1, a_2')\n",
    "b_0, b_1, b_2 = sym.symbols('b_0, b_1, b_2')\n",
    "c_0, c_1, c_2,c_3, c_4 = sym.symbols('c_0, c_1, c_2, c_3, c_4')"
   ]
  },
  {
   "cell_type": "code",
   "execution_count": 19,
   "metadata": {
    "collapsed": true
   },
   "outputs": [],
   "source": [
    "f = a_0 * y -  a_1 * x + a_2 * z\n",
    "g = b_1 * x ** 2 + b_0 * y ** 2 - b_2 * z ** 2\n",
    "h = c_0 * y - c_1 * x ** 3 + c_2 * x ** 2 * z - c_3 * x * z ** 2 + c_4 * z ** 3"
   ]
  },
  {
   "cell_type": "code",
   "execution_count": 20,
   "metadata": {
    "collapsed": true
   },
   "outputs": [],
   "source": [
    "polynomials = [f, g, h]"
   ]
  },
  {
   "cell_type": "code",
   "execution_count": 21,
   "metadata": {
    "collapsed": true
   },
   "outputs": [],
   "source": [
    "mac = MacaulayResultant(polynomials, variables=[x, y, z])"
   ]
  },
  {
   "cell_type": "code",
   "execution_count": 22,
   "metadata": {},
   "outputs": [
    {
     "data": {
      "image/png": "[encoded data removed]",
      "text/latex": [
       "$$\\left [ 1, \\quad 2, \\quad 3\\right ]$$"
      ],
      "text/plain": [
       "[1, 2, 3]"
      ]
     },
     "execution_count": 22,
     "metadata": {},
     "output_type": "execute_result"
    }
   ],
   "source": [
    "mac.degrees"
   ]
  },
  {
   "cell_type": "code",
   "execution_count": 23,
   "metadata": {},
   "outputs": [
    {
     "data": {
      "image/png": "[encoded data removed]",
      "text/latex": [
       "$$4$$"
      ],
      "text/plain": [
       "4"
      ]
     },
     "execution_count": 23,
     "metadata": {},
     "output_type": "execute_result"
    }
   ],
   "source": [
    "mac.degree_m"
   ]
  },
  {
   "cell_type": "code",
   "execution_count": 24,
   "metadata": {
    "collapsed": true
   },
   "outputs": [],
   "source": [
    "mac.get_monomials_set()"
   ]
  },
  {
   "cell_type": "code",
   "execution_count": 25,
   "metadata": {},
   "outputs": [
    {
     "data": {
      "image/png": "[encoded data removed]",
      "text/latex": [
       "$$15$$"
      ],
      "text/plain": [
       "15"
      ]
     },
     "execution_count": 25,
     "metadata": {},
     "output_type": "execute_result"
    }
   ],
   "source": [
    "mac.get_size()"
   ]
  },
  {
   "cell_type": "code",
   "execution_count": 26,
   "metadata": {},
   "outputs": [
    {
     "data": {
      "image/png": "[encoded data removed]",
      "text/latex": [
       "$$\\left [ x^{4}, \\quad x^{3} y, \\quad x^{3} z, \\quad x^{2} y^{2}, \\quad x^{2} y z, \\quad x^{2} z^{2}, \\quad x y^{3}, \\quad x y^{2} z, \\quad x y z^{2}, \\quad x z^{3}, \\quad y^{4}, \\quad y^{3} z, \\quad y^{2} z^{2}, \\quad y z^{3}, \\quad z^{4}\\right ]$$"
      ],
      "text/plain": [
       "⎡ 4   3     3     2  2   2       2  2     3     2         2     3   4   3     \n",
       "⎣x , x ⋅y, x ⋅z, x ⋅y , x ⋅y⋅z, x ⋅z , x⋅y , x⋅y ⋅z, x⋅y⋅z , x⋅z , y , y ⋅z, y\n",
       "\n",
       "2  2     3   4⎤\n",
       " ⋅z , y⋅z , z ⎦"
      ]
     },
     "execution_count": 26,
     "metadata": {},
     "output_type": "execute_result"
    }
   ],
   "source": [
    "mac.monomial_set"
   ]
  },
  {
   "cell_type": "code",
   "execution_count": 27,
   "metadata": {},
   "outputs": [
    {
     "data": {
      "image/png": "[encoded data removed]",
      "text/latex": [
       "$$\\left [ \\left [ x^{3}, \\quad x^{2} y, \\quad x^{2} z, \\quad x y^{2}, \\quad x y z, \\quad x z^{2}, \\quad y^{3}, \\quad y^{2} z, \\quad y z^{2}, \\quad z^{3}\\right ], \\quad \\left [ y^{2}, \\quad y z, \\quad z^{2}\\right ], \\quad \\left [ y, \\quad z\\right ]\\right ]$$"
      ],
      "text/plain": [
       "⎡⎡ 3   2     2       2            2   3   2       2   3⎤  ⎡ 2        2⎤       \n",
       "⎣⎣x , x ⋅y, x ⋅z, x⋅y , x⋅y⋅z, x⋅z , y , y ⋅z, y⋅z , z ⎦, ⎣y , y⋅z, z ⎦, [y, z\n",
       "\n",
       " ⎤\n",
       "]⎦"
      ]
     },
     "execution_count": 27,
     "metadata": {},
     "output_type": "execute_result"
    }
   ],
   "source": [
    "mac.get_row_coefficients()"
   ]
  },
  {
   "cell_type": "code",
   "execution_count": 28,
   "metadata": {},
   "outputs": [
    {
     "data": {
      "image/png": "[encoded data removed]",
      "text/latex": [
       "$$\\left[\\begin{array}{ccccccccccccccc}- a_{1} & a_{0} & a_{2} & 0 & 0 & 0 & 0 & 0 & 0 & 0 & 0 & 0 & 0 & 0 & 0\\\\0 & - a_{1} & 0 & a_{0} & a_{2} & 0 & 0 & 0 & 0 & 0 & 0 & 0 & 0 & 0 & 0\\\\0 & 0 & - a_{1} & 0 & a_{0} & a_{2} & 0 & 0 & 0 & 0 & 0 & 0 & 0 & 0 & 0\\\\0 & 0 & 0 & - a_{1} & 0 & 0 & a_{0} & a_{2} & 0 & 0 & 0 & 0 & 0 & 0 & 0\\\\0 & 0 & 0 & 0 & - a_{1} & 0 & 0 & a_{0} & a_{2} & 0 & 0 & 0 & 0 & 0 & 0\\\\0 & 0 & 0 & 0 & 0 & - a_{1} & 0 & 0 & a_{0} & a_{2} & 0 & 0 & 0 & 0 & 0\\\\0 & 0 & 0 & 0 & 0 & 0 & - a_{1} & 0 & 0 & 0 & a_{0} & a_{2} & 0 & 0 & 0\\\\0 & 0 & 0 & 0 & 0 & 0 & 0 & - a_{1} & 0 & 0 & 0 & a_{0} & a_{2} & 0 & 0\\\\0 & 0 & 0 & 0 & 0 & 0 & 0 & 0 & - a_{1} & 0 & 0 & 0 & a_{0} & a_{2} & 0\\\\0 & 0 & 0 & 0 & 0 & 0 & 0 & 0 & 0 & - a_{1} & 0 & 0 & 0 & a_{0} & a_{2}\\\\0 & 0 & 0 & b_{1} & 0 & 0 & 0 & 0 & 0 & 0 & b_{0} & 0 & - b_{2} & 0 & 0\\\\0 & 0 & 0 & 0 & b_{1} & 0 & 0 & 0 & 0 & 0 & 0 & b_{0} & 0 & - b_{2} & 0\\\\0 & 0 & 0 & 0 & 0 & b_{1} & 0 & 0 & 0 & 0 & 0 & 0 & b_{0} & 0 & - b_{2}\\\\0 & - c_{1} & 0 & 0 & c_{2} & 0 & 0 & 0 & - c_{3} & 0 & 0 & 0 & 0 & c_{4} & 0\\\\0 & 0 & - c_{1} & 0 & 0 & c_{2} & 0 & 0 & 0 & - c_{3} & 0 & 0 & 0 & 0 & c_{4}\\end{array}\\right]$$"
      ],
      "text/plain": [
       "⎡-a₁  a₀   a₂    0    0    0    0    0    0    0   0   0    0    0    0 ⎤\n",
       "⎢                                                                       ⎥\n",
       "⎢ 0   -a₁   0   a₀   a₂    0    0    0    0    0   0   0    0    0    0 ⎥\n",
       "⎢                                                                       ⎥\n",
       "⎢ 0    0   -a₁   0   a₀   a₂    0    0    0    0   0   0    0    0    0 ⎥\n",
       "⎢                                                                       ⎥\n",
       "⎢ 0    0    0   -a₁   0    0   a₀   a₂    0    0   0   0    0    0    0 ⎥\n",
       "⎢                                                                       ⎥\n",
       "⎢ 0    0    0    0   -a₁   0    0   a₀   a₂    0   0   0    0    0    0 ⎥\n",
       "⎢                                                                       ⎥\n",
       "⎢ 0    0    0    0    0   -a₁   0    0   a₀   a₂   0   0    0    0    0 ⎥\n",
       "⎢                                                                       ⎥\n",
       "⎢ 0    0    0    0    0    0   -a₁   0    0    0   a₀  a₂   0    0    0 ⎥\n",
       "⎢                                                                       ⎥\n",
       "⎢ 0    0    0    0    0    0    0   -a₁   0    0   0   a₀  a₂    0    0 ⎥\n",
       "⎢                                                                       ⎥\n",
       "⎢ 0    0    0    0    0    0    0    0   -a₁   0   0   0   a₀   a₂    0 ⎥\n",
       "⎢                                                                       ⎥\n",
       "⎢ 0    0    0    0    0    0    0    0    0   -a₁  0   0    0   a₀   a₂ ⎥\n",
       "⎢                                                                       ⎥\n",
       "⎢ 0    0    0   b₁    0    0    0    0    0    0   b₀  0   -b₂   0    0 ⎥\n",
       "⎢                                                                       ⎥\n",
       "⎢ 0    0    0    0   b₁    0    0    0    0    0   0   b₀   0   -b₂   0 ⎥\n",
       "⎢                                                                       ⎥\n",
       "⎢ 0    0    0    0    0   b₁    0    0    0    0   0   0   b₀    0   -b₂⎥\n",
       "⎢                                                                       ⎥\n",
       "⎢ 0   -c₁   0    0   c₂    0    0    0   -c₃   0   0   0    0   c₄    0 ⎥\n",
       "⎢                                                                       ⎥\n",
       "⎣ 0    0   -c₁   0    0   c₂    0    0    0   -c₃  0   0    0    0   c₄ ⎦"
      ]
     },
     "execution_count": 28,
     "metadata": {},
     "output_type": "execute_result"
    }
   ],
   "source": [
    "matrix = mac.get_matrix()\n",
    "matrix"
   ]
  },
  {
   "cell_type": "code",
   "execution_count": 29,
   "metadata": {},
   "outputs": [
    {
     "data": {
      "image/png": "[encoded data removed]",
      "text/latex": [
       "$$\\left ( 15, \\quad 15\\right )$$"
      ],
      "text/plain": [
       "(15, 15)"
      ]
     },
     "execution_count": 29,
     "metadata": {},
     "output_type": "execute_result"
    }
   ],
   "source": [
    "matrix.shape"
   ]
  },
  {
   "cell_type": "code",
   "execution_count": 30,
   "metadata": {},
   "outputs": [
    {
     "data": {
      "image/png": "[encoded data removed]",
      "text/latex": [
       "$$\\left[\\begin{matrix}- a_{1} & a_{0} & a_{2} & 0\\\\0 & - a_{1} & 0 & 0\\\\0 & 0 & - a_{1} & 0\\\\0 & 0 & 0 & - a_{1}\\end{matrix}\\right]$$"
      ],
      "text/plain": [
       "⎡-a₁  a₀   a₂    0 ⎤\n",
       "⎢                  ⎥\n",
       "⎢ 0   -a₁   0    0 ⎥\n",
       "⎢                  ⎥\n",
       "⎢ 0    0   -a₁   0 ⎥\n",
       "⎢                  ⎥\n",
       "⎣ 0    0    0   -a₁⎦"
      ]
     },
     "execution_count": 30,
     "metadata": {},
     "output_type": "execute_result"
    }
   ],
   "source": [
    "mac.get_submatrix(mac.get_matrix())"
   ]
  },
  {
   "cell_type": "code",
   "execution_count": null,
   "metadata": {
    "collapsed": true
   },
   "outputs": [],
   "source": []
  },
  {
   "cell_type": "code",
   "execution_count": null,
   "metadata": {
    "collapsed": true
   },
   "outputs": [],
   "source": []
  }
 ],
 "metadata": {
  "anaconda-cloud": {},
  "kernelspec": {
   "display_name": "Python [conda env:sympy]",
   "language": "python",
   "name": "conda-env-sympy-py"
  },
  "language_info": {
   "codemirror_mode": {
    "name": "ipython",
    "version": 3
   },
   "file_extension": ".py",
   "mimetype": "text/x-python",
   "name": "python",
   "nbconvert_exporter": "python",
   "pygments_lexer": "ipython3",
   "version": "3.5.4"
  }
 },
 "nbformat": 4,
 "nbformat_minor": 2
}
