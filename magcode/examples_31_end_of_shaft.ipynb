{
 "cells": [
  {
   "cell_type": "markdown",
   "id": "60bdbe9a",
   "metadata": {},
   "source": [
    "# Angle sensor\n",
    "\n",
    "End of shaft angle sensing is a classical example for a magnetic position system. The goal is to determine the angular position of a rotating shaft. A magnet, typically a diametrically magnetized cylinder, is mounted at the end of the shaft. A 2D sensor is mounted below. When the shaft rotates the two sensor outputs will be $s_1=B_0 sin(\\varphi)$ and $s_2=B_0 cos(\\varphi)$, so that the angle is uniquely given by $\\varphi = arctan(s_1/s_2)$.\n",
    "\n",
    "In the example below we show such a typical end-of-shaft system with a 2-pixel sensor, that is commonly used to eliminate external stray fields. In addition, we assume that the magnet is not perfectly mounted at the end of the shaft, but slightly displaced to the side, which results in a wobble motion. Such tolerances are easily implemented with Magpylib, they can be visualized and their influence on the sensor output signal can be tested quickly."
   ]
  },
  {
   "cell_type": "code",
   "execution_count": 1,
   "id": "00128e3c",
   "metadata": {},
   "outputs": [
    {
     "ename": "NameError",
     "evalue": "name 'go' is not defined",
     "output_type": "error",
     "traceback": [
      "\u001b[0;31m---------------------------------------------------------------------------\u001b[0m",
      "\u001b[0;31mNameError\u001b[0m                                 Traceback (most recent call last)",
      "Cell \u001b[0;32mIn[1], line 46\u001b[0m\n\u001b[1;32m     38\u001b[0m sens \u001b[38;5;241m=\u001b[39m magpy\u001b[38;5;241m.\u001b[39mSensor(\n\u001b[1;32m     39\u001b[0m     position\u001b[38;5;241m=\u001b[39m(\u001b[38;5;241m0\u001b[39m, \u001b[38;5;241m0\u001b[39m, \u001b[38;5;241m-\u001b[39mgap),\n\u001b[1;32m     40\u001b[0m     pixel\u001b[38;5;241m=\u001b[39m[(\u001b[38;5;241m1\u001b[39m, \u001b[38;5;241m0\u001b[39m, \u001b[38;5;241m0\u001b[39m), (\u001b[38;5;241m-\u001b[39m\u001b[38;5;241m1\u001b[39m, \u001b[38;5;241m0\u001b[39m, \u001b[38;5;241m0\u001b[39m)],\n\u001b[1;32m     41\u001b[0m     style_pixel_size\u001b[38;5;241m=\u001b[39m\u001b[38;5;241m0.5\u001b[39m,\n\u001b[1;32m     42\u001b[0m     style_size\u001b[38;5;241m=\u001b[39m\u001b[38;5;241m1.5\u001b[39m,\n\u001b[1;32m     43\u001b[0m )\n\u001b[1;32m     45\u001b[0m \u001b[38;5;66;03m# show 3D animation of wobble motion\u001b[39;00m\n\u001b[0;32m---> 46\u001b[0m fig1 \u001b[38;5;241m=\u001b[39m \u001b[43mgo\u001b[49m\u001b[38;5;241m.\u001b[39mFigure()\n\u001b[1;32m     47\u001b[0m magpy\u001b[38;5;241m.\u001b[39mshow(magnet, sens, shaft, animation\u001b[38;5;241m=\u001b[39m\u001b[38;5;28;01mTrue\u001b[39;00m, backend\u001b[38;5;241m=\u001b[39m\u001b[38;5;124m\"\u001b[39m\u001b[38;5;124mplotly\u001b[39m\u001b[38;5;124m\"\u001b[39m, canvas\u001b[38;5;241m=\u001b[39mfig1)\n\u001b[1;32m     48\u001b[0m fig1\u001b[38;5;241m.\u001b[39mupdate_layout(scene_camera_eye_z\u001b[38;5;241m=\u001b[39m\u001b[38;5;241m-\u001b[39m\u001b[38;5;241m1.1\u001b[39m)\n",
      "\u001b[0;31mNameError\u001b[0m: name 'go' is not defined"
     ]
    }
   ],
   "source": [
    "import numpy as np\n",
    "import plotly.express as px\n",
    "import magpylib as magpy\n",
    "\n",
    "# create magnet\n",
    "magnet = magpy.magnet.Cylinder(\n",
    "    magnetization=(1000, 0, 0),\n",
    "    dimension=(6, 2),\n",
    "    position=(0, 0, 1.5),\n",
    "    style_label=\"Magnet\",\n",
    "    style_color=\".7\",\n",
    ")\n",
    "\n",
    "# create shaft dummy with 3D model\n",
    "shaft = magpy.misc.CustomSource(\n",
    "    position=(0, 0, 7),\n",
    "    style_color=\".7\",\n",
    "    style_model3d_showdefault=False,\n",
    "    style_label=\"Shaft\",\n",
    ")\n",
    "shaft_trace = magpy.graphics.model3d.make_Prism(\n",
    "    base=20,\n",
    "    diameter=10,\n",
    "    height=10,\n",
    "    opacity=0.3,\n",
    ")\n",
    "shaft.style.model3d.add_trace(shaft_trace)\n",
    "\n",
    "# shaft rotation / magnet wobble motion\n",
    "displacement = 1\n",
    "angles = np.linspace(0, 360, 72)\n",
    "coll = magnet + shaft\n",
    "magnet.move((displacement, 0, 0))\n",
    "coll.rotate_from_angax(angles, \"z\", anchor=0, start=0)\n",
    "\n",
    "# create sensor\n",
    "gap = 3\n",
    "sens = magpy.Sensor(\n",
    "    position=(0, 0, -gap),\n",
    "    pixel=[(1, 0, 0), (-1, 0, 0)],\n",
    "    style_pixel_size=0.5,\n",
    "    style_size=1.5,\n",
    ")\n",
    "\n",
    "# show 3D animation of wobble motion\n",
    "fig1 = go.Figure()\n",
    "magpy.show(magnet, sens, shaft, animation=True, backend=\"plotly\", canvas=fig1)\n",
    "fig1.update_layout(scene_camera_eye_z=-1.1)\n",
    "fig1.show()\n",
    "\n",
    "# show sensor output in plotly\n",
    "fig2 = go.Figure()\n",
    "df = sens.getB(magnet, output=\"dataframe\")\n",
    "df[\"angle [deg]\"] = angles[df[\"path\"]]\n",
    "\n",
    "fig2 = px.line(\n",
    "    df,\n",
    "    x=\"angle [deg]\",\n",
    "    y=[\"Bx\", \"By\"],\n",
    "    line_dash=\"pixel\",\n",
    "    labels={\"value\": \"Field [mT]\"},\n",
    ")\n",
    "fig2.show()"
   ]
  }
 ],
 "metadata": {
  "jupytext": {
   "text_representation": {
    "extension": ".md",
    "format_name": "myst",
    "format_version": 0.13,
    "jupytext_version": "1.13.7"
   }
  },
  "kernelspec": {
   "display_name": "Python 3 (ipykernel)",
   "language": "python",
   "name": "python3"
  },
  "language_info": {
   "codemirror_mode": {
    "name": "ipython",
    "version": 3
   },
   "file_extension": ".py",
   "mimetype": "text/x-python",
   "name": "python",
   "nbconvert_exporter": "python",
   "pygments_lexer": "ipython3",
   "version": "3.9.15"
  },
  "source_map": [
   12,
   20
  ]
 },
 "nbformat": 4,
 "nbformat_minor": 5
}