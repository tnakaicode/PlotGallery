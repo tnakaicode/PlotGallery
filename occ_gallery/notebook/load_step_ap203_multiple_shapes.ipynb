{
 "cells": [
  {
   "cell_type": "code",
   "execution_count": null,
   "metadata": {},
   "outputs": [],
   "source": [
    "import os\n",
    "from random import randint"
   ]
  },
  {
   "cell_type": "code",
   "execution_count": null,
   "metadata": {},
   "outputs": [],
   "source": [
    "from OCC.Display.WebGl.jupyter_renderer import JupyterRenderer, format_color\n",
    "from OCC.Extend.TopologyUtils import TopologyExplorer\n",
    "from OCC.Extend.DataExchange import read_step_file"
   ]
  },
  {
   "cell_type": "code",
   "execution_count": null,
   "metadata": {},
   "outputs": [],
   "source": [
    "shp = read_step_file(os.path.join('..', 'assets', 'models',\n",
    "                                  'RC_Buggy_2_front_suspension.stp'))"
   ]
  },
  {
   "cell_type": "code",
   "execution_count": null,
   "metadata": {},
   "outputs": [],
   "source": [
    "my_renderer = JupyterRenderer(size=(700, 700))"
   ]
  },
  {
   "cell_type": "code",
   "execution_count": null,
   "metadata": {},
   "outputs": [],
   "source": [
    "# loop over subshapes so that each subshape is meshed/displayed\n",
    "t = TopologyExplorer(shp)\n",
    "for solid in t.solids():\n",
    "    # random colors, just for fun\n",
    "    random_color = format_color(randint(0,255), randint(0,255), randint(0,255))\n",
    "    my_renderer.DisplayShape(solid, shape_color=random_color, render_edges=True)"
   ]
  },
  {
   "cell_type": "code",
   "execution_count": null,
   "metadata": {
    "scrolled": false
   },
   "outputs": [],
   "source": [
    "my_renderer.Display()"
   ]
  }
 ],
 "metadata": {
  "kernelspec": {
   "display_name": "Python 3",
   "language": "python",
   "name": "python3"
  },
  "language_info": {
   "codemirror_mode": {
    "name": "ipython",
    "version": 3
   },
   "file_extension": ".py",
   "mimetype": "text/x-python",
   "name": "python",
   "nbconvert_exporter": "python",
   "pygments_lexer": "ipython3",
   "version": "3.6.4"
  }
 },
 "nbformat": 4,
 "nbformat_minor": 2
}
