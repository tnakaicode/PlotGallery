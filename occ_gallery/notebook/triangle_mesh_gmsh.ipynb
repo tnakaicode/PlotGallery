{
 "cells": [
  {
   "cell_type": "code",
   "execution_count": null,
   "metadata": {
    "scrolled": true
   },
   "outputs": [],
   "source": [
    "# standard import \n",
    "import os\n",
    "import sys\n",
    "import tempfile\n",
    "\n",
    "# OCC imports\n",
    "from OCC.Display.WebGl.jupyter_renderer import JupyterRenderer\n",
    "from OCC.Core.BRepTools import breptools_Write\n",
    "from OCC.Core.gp import gp_Vec\n",
    "from OCC.Extend.ShapeFactory import translate_shp\n",
    "from OCC.Extend.DataExchange import read_step_file, read_stl_file"
   ]
  },
  {
   "cell_type": "code",
   "execution_count": null,
   "metadata": {},
   "outputs": [],
   "source": [
    "# gmsh binary location\n",
    "GMSH_BINARY = 'gmsh'\n",
    "\n",
    "# create a temporary directory to store gmsh files\n",
    "tmp  =  tempfile.TemporaryDirectory()\n",
    "TMP_DIR = tmp.name\n",
    "print(\"Files will be saved to \", TMP_DIR)"
   ]
  },
  {
   "cell_type": "code",
   "execution_count": null,
   "metadata": {},
   "outputs": [],
   "source": [
    "ventilator_shp = read_step_file(os.path.join('..', 'assets', 'models', 'Ventilator.stp'))"
   ]
  },
  {
   "cell_type": "code",
   "execution_count": null,
   "metadata": {},
   "outputs": [],
   "source": [
    "# dump the geometry to a brep file, check it worked\n",
    "BREP_BASENAME = \"ventilator.brep\"\n",
    "BREP_FILENAME = os.path.join(TMP_DIR, BREP_BASENAME)\n",
    "breptools_Write(ventilator_shp, BREP_FILENAME)\n",
    "assert os.path.isfile(BREP_FILENAME)\n",
    "\n",
    "# create the gmesh file\n",
    "gmsh_file_content = \"\"\"SetFactory(\"OpenCASCADE\");\n",
    "\n",
    "Mesh.CharacteristicLengthMin = 1;\n",
    "Mesh.CharacteristicLengthMax = 5;\n",
    "\n",
    "a() = ShapeFromFile('%s');\n",
    "\"\"\" % BREP_BASENAME\n",
    "GEO_FILENAME = os.path.join(TMP_DIR, \"ventilator.geo\")\n",
    "gmsh_file = open(GEO_FILENAME, \"w\")\n",
    "gmsh_file.write(gmsh_file_content)\n",
    "gmsh_file.close()\n",
    "assert os.path.isfile(GEO_FILENAME)\n",
    "\n",
    "# call gmsh, generate an STL file\n",
    "STL_FILENAME = os.path.join(TMP_DIR, \"ventilator.stl\")\n",
    "os.system(\"%s %s -2 -o %s -format stl\" % (GMSH_BINARY, GEO_FILENAME, STL_FILENAME))\n",
    "assert os.path.isfile(STL_FILENAME)\n",
    "\n",
    "# load the stl file\n",
    "meshed_ventilator_shp = read_stl_file(STL_FILENAME)"
   ]
  },
  {
   "cell_type": "code",
   "execution_count": null,
   "metadata": {},
   "outputs": [],
   "source": [
    "my_renderer = JupyterRenderer(size=(900, 900))"
   ]
  },
  {
   "cell_type": "code",
   "execution_count": null,
   "metadata": {
    "scrolled": true
   },
   "outputs": [],
   "source": [
    "my_renderer.DisplayShape(translate_shp(ventilator_shp, gp_Vec(-100,0,0)), render_edges=True, shape_color=\"cyan\")\n",
    "my_renderer.DisplayShape(meshed_ventilator_shp, render_edges=True, shape_color=\"cyan\", update=True)"
   ]
  }
 ],
 "metadata": {
  "kernelspec": {
   "display_name": "Python 3",
   "language": "python",
   "name": "python3"
  },
  "language_info": {
   "codemirror_mode": {
    "name": "ipython",
    "version": 3
   },
   "file_extension": ".py",
   "mimetype": "text/x-python",
   "name": "python",
   "nbconvert_exporter": "python",
   "pygments_lexer": "ipython3",
   "version": "3.6.4"
  }
 },
 "nbformat": 4,
 "nbformat_minor": 2
}
