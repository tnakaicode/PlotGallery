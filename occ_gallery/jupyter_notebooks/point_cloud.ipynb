{
 "cells": [
  {
   "cell_type": "code",
   "execution_count": null,
   "metadata": {},
   "outputs": [],
   "source": [
    "import os\n",
    "\n",
    "from OCC.Core.gp import gp_Pnt\n",
    "\n",
    "from OCC.Display.WebGl.jupyter_renderer import JupyterRenderer"
   ]
  },
  {
   "cell_type": "code",
   "execution_count": null,
   "metadata": {},
   "outputs": [],
   "source": [
    "def pcd_get_number_of_vertices(pcd_filename):\n",
    "    \"\"\" open the PCD file, read header and get number of vertices.\n",
    "    Header looks like:\n",
    "    # .PCD v.5 - Point Cloud Data file format\n",
    "    VERSION .5\n",
    "    FIELDS x y z\n",
    "    SIZE 4 4 4\n",
    "    TYPE F F F\n",
    "    COUNT 1 1 1\n",
    "    WIDTH 397\n",
    "    HEIGHT 1\n",
    "    POINTS 397\n",
    "    DATA ascii\n",
    "    \"\"\"\n",
    "    f = open(pcd_filename, 'r')\n",
    "    # read 8 lines\n",
    "    for i in range(8):\n",
    "        f.readline()\n",
    "    # the 9th line holds the number of points\n",
    "    number_of_points = int(f.readline().split()[1])\n",
    "    f.close()\n",
    "    return number_of_points"
   ]
  },
  {
   "cell_type": "code",
   "execution_count": null,
   "metadata": {},
   "outputs": [],
   "source": [
    "pcd_file_name = os.path.join('..', 'assets', 'models', 'bunny.pcd')\n",
    "# compute number of lines\n",
    "nbr_of_vertices = pcd_get_number_of_vertices(pcd_file_name)\n",
    "print(\"Number of vertices :\", nbr_of_vertices)\n",
    "vertices = []\n",
    "# fedd it with vertices\n",
    "fp = open(pcd_file_name, 'r')\n",
    "# read 11 lines to skip header\n",
    "for i in range(10):\n",
    "    fp.readline()\n",
    "for i in range(nbr_of_vertices):\n",
    "    line = fp.readline()\n",
    "    x, y, z = map(float, line.split())\n",
    "    vertices.append(gp_Pnt(x, y, z))"
   ]
  },
  {
   "cell_type": "code",
   "execution_count": null,
   "metadata": {},
   "outputs": [],
   "source": [
    "my_renderer = JupyterRenderer()"
   ]
  },
  {
   "cell_type": "code",
   "execution_count": null,
   "metadata": {},
   "outputs": [],
   "source": [
    "my_renderer.DisplayShape(vertices, update=True)"
   ]
  }
 ],
 "metadata": {
  "kernelspec": {
   "display_name": "Python 3",
   "language": "python",
   "name": "python3"
  },
  "language_info": {
   "codemirror_mode": {
    "name": "ipython",
    "version": 3
   },
   "file_extension": ".py",
   "mimetype": "text/x-python",
   "name": "python",
   "nbconvert_exporter": "python",
   "pygments_lexer": "ipython3",
   "version": "3.6.4"
  }
 },
 "nbformat": 4,
 "nbformat_minor": 2
}
